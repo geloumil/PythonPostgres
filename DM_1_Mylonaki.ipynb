{
 "cells": [
  {
   "cell_type": "markdown",
   "metadata": {},
   "source": [
    "<b> <font size=\"+3\" color=\"#7733ff\"> Data Management </font> </b> <br>\n",
    "<b> <font color=\"#7733ff\" size=\"+1\"> Assignement: </font> </b> <font color=\"#666699\" size=\"+1\"> 1 </font> <br>\n",
    "<b> <font color=\"#7733ff\" size=\"+1\"> Author: </font> </b> <font color=\"#666699\" size=\"+1\"> Mylonaki Aggeliki </font>"
   ]
  },
  {
   "cell_type": "markdown",
   "metadata": {},
   "source": [
    "<font color=\"#666699\"> Opening CSV file </font>"
   ]
  },
  {
   "cell_type": "code",
   "execution_count": 64,
   "metadata": {
    "collapsed": true
   },
   "outputs": [],
   "source": [
    "#!/usr/bin/python\n",
    "import psycopg2\n",
    "import csv\n",
    "import time\n",
    "\n",
    "fp = open('roadNet-TX.txt')\n",
    "reader = csv.reader(filter(lambda row: row[0]!='#', fp), delimiter='\\t')"
   ]
  },
  {
   "cell_type": "markdown",
   "metadata": {},
   "source": [
    "<font color=\"#666699\"> Connecting to postgres. </font>\n",
    "<font color=\"#666699\"> <b> Attributes: host, user,password and database may vary in different systems <b> <font>"
   ]
  },
  {
   "cell_type": "code",
   "execution_count": 65,
   "metadata": {
    "collapsed": true
   },
   "outputs": [],
   "source": [
    "database = psycopg2.connect( host=\"localhost\", user=\"postgres\", password=\"postgres\", database=\"postgres\")"
   ]
  },
  {
   "cell_type": "markdown",
   "metadata": {},
   "source": [
    "<font color=\"#666699\"> Inserting Data to table, counting elapsed time </font>"
   ]
  },
  {
   "cell_type": "code",
   "execution_count": 68,
   "metadata": {},
   "outputs": [
    {
     "name": "stdout",
     "output_type": "stream",
     "text": [
      "Loading data...\n",
      "Time elapsed:\n",
      "0:00:00.000166\n"
     ]
    }
   ],
   "source": [
    "print \"Loading data...\"\n",
    "start_time = time.time()\n",
    "   \n",
    "cursor = database.cursor()\n",
    "cursor.execute(\"create table road(FromNodeId integer,ToNodeId integer)\")\n",
    "\n",
    "for row in reader:\n",
    "    cursor.execute(\"INSERT INTO road VALUES (%s,%s);\",row) \n",
    "\n",
    "elapsed_time= time.time() - start_time\n",
    "print \"Time elapsed:\"\n",
    "print str(datetime.timedelta(seconds=elapsed_time))"
   ]
  },
  {
   "cell_type": "code",
   "execution_count": 72,
   "metadata": {
    "scrolled": true
   },
   "outputs": [
    {
     "name": "stdout",
     "output_type": "stream",
     "text": [
      "Executing command: SELECT count(*) FROM road;\n",
      "Time elapsed:\n",
      "0:00:00.345701\n",
      "\n",
      "Executing command: SELECT \"fromnodeid\", count(*) FROM road GROUP BY \"fromnodeid\" HAVING count(*)>8;\n",
      "Time elapsed:\n",
      "0:00:03.354942\n",
      "\n",
      "Executing command: SELECT R.\"fromnodeid\", count(*) FROM road R, road Q WHERE R.\"tonodeid\"=Q.\"tonodeid\"\n",
      "                GROUP BY R.\"fromnodeid\" HAVING count(*)>8;\n",
      "Time elapsed:\n",
      "0:00:21.634875\n",
      "\n"
     ]
    }
   ],
   "source": [
    "database.commit()\n",
    "queries=[]\n",
    "\n",
    "queries.append(\"SELECT count(*) FROM road;\")\n",
    "queries.append(\"\"\"SELECT \"fromnodeid\", count(*) FROM road GROUP BY \"fromnodeid\" HAVING count(*)>8;\"\"\")\n",
    "queries.append(\"\"\"SELECT R.\"fromnodeid\", count(*) FROM road R, road Q WHERE R.\"tonodeid\"=Q.\"tonodeid\"\n",
    "                GROUP BY R.\"fromnodeid\" HAVING count(*)>8;\"\"\")\n",
    "\n",
    "for i in queries:\n",
    "    print \"Executing command: \" + i\n",
    "    start_time = time.time()\n",
    "    cursor.execute(i)\n",
    "    elapsed_time= time.time() - start_time\n",
    "    print \"Time elapsed:\"\n",
    "    print str(datetime.timedelta(seconds=elapsed_time))\n",
    "    print"
   ]
  },
  {
   "cell_type": "markdown",
   "metadata": {},
   "source": [
    "<font color=\"#666699\"> Closing descriptors </font>"
   ]
  },
  {
   "cell_type": "code",
   "execution_count": 77,
   "metadata": {
    "collapsed": true
   },
   "outputs": [],
   "source": [
    "cursor.close()\n",
    "database.commit()\n",
    "database.close()\n",
    "fp.close()"
   ]
  },
  {
   "cell_type": "code",
   "execution_count": null,
   "metadata": {
    "collapsed": true
   },
   "outputs": [],
   "source": []
  }
 ],
 "metadata": {
  "kernelspec": {
   "display_name": "Python 2",
   "language": "python",
   "name": "python2"
  },
  "language_info": {
   "codemirror_mode": {
    "name": "ipython",
    "version": 2
   },
   "file_extension": ".py",
   "mimetype": "text/x-python",
   "name": "python",
   "nbconvert_exporter": "python",
   "pygments_lexer": "ipython2",
   "version": "2.7.14"
  }
 },
 "nbformat": 4,
 "nbformat_minor": 2
}
